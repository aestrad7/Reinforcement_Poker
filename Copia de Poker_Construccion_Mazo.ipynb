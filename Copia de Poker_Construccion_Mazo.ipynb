{
 "cells": [
  {
   "cell_type": "markdown",
   "id": "cc3dcb58",
   "metadata": {},
   "source": [
    "### En esta seccion construiremos el objeto \"mano\" que se compone de dos cartas aleatorias de un mazo de 52 cartas"
   ]
  },
  {
   "cell_type": "code",
   "execution_count": 1,
   "id": "669df4b1",
   "metadata": {},
   "outputs": [],
   "source": [
    "import random"
   ]
  },
  {
   "cell_type": "code",
   "execution_count": 2,
   "id": "963338f2",
   "metadata": {},
   "outputs": [],
   "source": [
    "#Creamos la lista de pintas y directorio de valores\n",
    "VALOR_CARTA = {2:2, 3:3, 4:4, 5:5, 6:6, 7:7, 8:8, 9:9, 10:10, \"J\":11, \"Q\":12, \"K\":13, \"A\":14}\n",
    "PINTA_CARTA = [\"Pica\", \"Corazon\", \"Trebol\", \"Diamante\"]"
   ]
  },
  {
   "cell_type": "code",
   "execution_count": 9,
   "id": "9e1afa2f",
   "metadata": {},
   "outputs": [],
   "source": [
    "#creamos la funcion de valores del mazo y de mano\n",
    "MAZO =[]\n",
    "def constructor_de_cartas (valor_carta, pinta_carta):\n",
    "    \"\"\"Esta funcion permuta el numero de valores con el numero de pintas generando una lista de tuplas nxm\n",
    "\n",
    "    Args:\n",
    "        valor_carta (dict): Diccionario de posibles valores que puede tomar una carta\n",
    "        pinta_carta (list): Lista de posubles pintas de una carta\n",
    "\n",
    "    Returns:\n",
    "        [list]: Lista de tuplas con valores de una carta (valor y pinta)\n",
    "    \"\"\"\n",
    "\n",
    "    for i in range(0,len(pinta_carta)):\n",
    "        for j in range(0,len(valor_carta)):\n",
    "            carta = (valor_carta[j],pinta_carta[i])\n",
    "            MAZO.append(carta)\n",
    "    return MAZO\n",
    "\n",
    "\n",
    "class Mazo:\n",
    "\n",
    "    def __init__(self,valor_carta, pinta_carta):\n",
    "        self.mazo = constructor_de_cartas(list(valor_carta.keys()), pinta_carta)\n",
    "    \n",
    "    def sacar_carta(self, n_cartas):\n",
    "        \"\"\"Este metodo remueve n cartas del mazo y las guarda en cartas out. Requiere un mazo creado\n",
    "\n",
    "        Args:\n",
    "            n_cartas (int): Numero de cartas a sacar, no mayor al tamaño del mazo\n",
    "\n",
    "        Returns:\n",
    "            [list]: Lista de cartas sacadas del mazo\n",
    "        \"\"\"\n",
    "\n",
    "        self.cartas_out = random.sample(self.mazo,n_cartas)\n",
    "        self.mazo = [x for x in self.mazo if x not in self.cartas_out]\n",
    "\n",
    "        return self.cartas_out\n",
    "\n",
    "class Mano:\n",
    "    def __init__(self, mazo_prueba):\n",
    "        \"\"\" Una mano usa el metodo sacar_carta del Mazo con tamaño de 2\n",
    "\n",
    "        Args:\n",
    "            mazo_prueba (class): Requiere un maso ya creado\n",
    "        \"\"\"\n",
    "\n",
    "        self.mano = [*mazo_prueba.sacar_carta(2)]\n",
    "        \n",
    "    def valor_mano(self):\n",
    "        \"\"\"\n",
    "        Returns:\n",
    "            [list]: Devuelve el valor de las dos cartas removidas del mazo\n",
    "        \"\"\"\n",
    "\n",
    "        return self.mano        \n",
    "\n",
    "class Jugador:\n",
    "\n",
    "    def __init__(self, mazo, bankroll):\n",
    "        self.mano = Mano(mazo) #Mano ya esta definida como un objeto\n",
    "        self.posicion = None\n",
    "        self.bankroll = bankroll\n",
    "        self.tipo_jugador = None\n",
    "    \n",
    "    def check(self):\n",
    "        pass\n",
    "    def up(self):\n",
    "        pass\n",
    "    def fold(self):\n",
    "        pass"
   ]
  },
  {
   "cell_type": "code",
   "execution_count": 10,
   "id": "8cc9c5d3",
   "metadata": {},
   "outputs": [
    {
     "name": "stdout",
     "output_type": "stream",
     "text": [
      "1000\n",
      "[(8, 'Trebol'), ('K', 'Corazon')]\n"
     ]
    }
   ],
   "source": [
    "mazo_prueba = Mazo(VALOR_CARTA,PINTA_CARTA)\n",
    "jugador_prueba = Jugador(mazo_prueba, 1000)\n",
    "\n",
    "print(jugador_prueba.bankroll)\n",
    "print(jugador_prueba.mano.valor_mano())"
   ]
  },
  {
   "cell_type": "markdown",
   "id": "3bd5aa0c",
   "metadata": {},
   "source": [
    "### En esta seccion construiremos las reglas del juego en este orden:\n",
    "\n",
    "https://en.wikipedia.org/wiki/Reinforcement_learning\n",
    "\n",
    "    1. Reparticion a 6 jugadores, preflip\n",
    "    2. Etapas del juego (flip, turn, river)\n",
    "    3. Reglas de ganar de ganar y perder\n",
    "    4. Sistema de pots y apuestas\n",
    "    5. Banca propia\n",
    "    6. Boton y posiciones\n",
    "    7. Algoritmo de aprendizaje\n",
    "    8. Analisis de resultados\n",
    "        a. Tablas\n",
    "        b. Estrategias\n",
    "        c. Insight y graficas\n",
    "        d. Otras preguntas interesantes del estudio (valores y montos, etc)"
   ]
  },
  {
   "cell_type": "markdown",
   "id": "5f70a85f",
   "metadata": {},
   "source": [
    "# Manos en la mesa en la mesa\n",
    "- Carta mas alta\n",
    "- Par\n",
    "- 2 Pares\n",
    "- Terna\n",
    "- Escalera\n",
    "- Color\n",
    "- Full\n",
    "- Poker\n",
    "- Escalera de color\n",
    "- Escalera real"
   ]
  },
  {
   "cell_type": "markdown",
   "id": "5485d996",
   "metadata": {},
   "source": []
  }
 ],
 "metadata": {
  "interpreter": {
   "hash": "aee8b7b246df8f9039afb4144a1f6fd8d2ca17a180786b69acc140d282b71a49"
  },
  "kernelspec": {
   "display_name": "Python 3.9.7 64-bit",
   "language": "python",
   "name": "python3"
  },
  "language_info": {
   "codemirror_mode": {
    "name": "ipython",
    "version": 3
   },
   "file_extension": ".py",
   "mimetype": "text/x-python",
   "name": "python",
   "nbconvert_exporter": "python",
   "pygments_lexer": "ipython3",
   "version": "3.9.13"
  }
 },
 "nbformat": 4,
 "nbformat_minor": 5
}
